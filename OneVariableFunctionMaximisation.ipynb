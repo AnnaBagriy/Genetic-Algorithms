{
 "cells": [
  {
   "cell_type": "code",
   "execution_count": 67,
   "metadata": {},
   "outputs": [],
   "source": [
    "import numpy as np\n",
    "import random\n",
    "import math\n",
    "import matplotlib.pyplot as plt"
   ]
  },
  {
   "cell_type": "code",
   "execution_count": 68,
   "metadata": {},
   "outputs": [],
   "source": [
    "# Section\n",
    "a = -1\n",
    "b = 2\n",
    "\n",
    "# Additional data\n",
    "epsilon = 1e-6\n",
    "populationSize = 100\n",
    "\n",
    "# Iterations \n",
    "t_max_i = 20\n",
    "t_max = 200\n",
    "\n",
    "# Propabilities\n",
    "probCrossover = 0.6\n",
    "probMutation = 0.02"
   ]
  },
  {
   "cell_type": "code",
   "execution_count": 69,
   "metadata": {},
   "outputs": [],
   "source": [
    "def f(x):\n",
    "    return x * math.sin(10 * math.pi * x) + 1"
   ]
  },
  {
   "cell_type": "code",
   "execution_count": 70,
   "metadata": {},
   "outputs": [],
   "source": [
    "def getBitArraySize(n):\n",
    "    bitArraySize = 0\n",
    "    \n",
    "    while n > 0:\n",
    "        n >>= 1\n",
    "        bitArraySize += 1\n",
    "        \n",
    "    return bitArraySize"
   ]
  },
  {
   "cell_type": "code",
   "execution_count": 71,
   "metadata": {},
   "outputs": [],
   "source": [
    "def bitToFloat(bitArray):\n",
    "    return a + ((b - a)) / (2**bitArraySize - 1) * int(bitArray, 2)\n",
    "\n",
    "def fitness(individual):\n",
    "    return f(bitToFloat(individual))"
   ]
  },
  {
   "cell_type": "code",
   "execution_count": 72,
   "metadata": {},
   "outputs": [],
   "source": [
    "def tournamentMethod(population):\n",
    "    result = random.sample(population, 2)\n",
    "\n",
    "    firstFitnessFunction = fitness(result[0])\n",
    "    secondFitnessFunction = fitness(result[1])\n",
    "\n",
    "    if firstFitnessFunction > secondFitnessFunction:\n",
    "        best = result[0]\n",
    "    else:\n",
    "        best = result[1]  \n",
    "\n",
    "    return best\n",
    "\n",
    "def mutation(individual):\n",
    "    randomProbability = np.random.random_sample()\n",
    "\n",
    "    if randomProbability <= probMutation:\n",
    "        charIndexToMutate = np.random.randint(low = 0, high = bitArraySize)\n",
    "        charToMutate = individual[charIndexToMutate] \n",
    "\n",
    "        if charToMutate == '0':\n",
    "            individual = individual[:charIndexToMutate] + \"1\" + individual[charIndexToMutate + 1:]\n",
    "        else:\n",
    "            individual = individual[:charIndexToMutate] + \"0\" + individual[charIndexToMutate + 1:]\n",
    "\n",
    "    return individual\n",
    "\n",
    "def crossover(population, propability):    \n",
    "    individualOne = population[np.random.randint(low = 0, high = populationSize - 1)]\n",
    "    individualTwo = population[np.random.randint(low = 0, high = populationSize - 1)]\n",
    "\n",
    "    probabilityForCrossover = np.random.random_sample()\n",
    "    if probabilityForCrossover <= propability:\n",
    "        randomIndex = np.random.randint(low = 0, high = bitArraySize)\n",
    "\n",
    "        firstHalf_IndividualOne = individualOne[:randomIndex]\n",
    "        secondHalf_IndividualOne = individualOne[randomIndex:]\n",
    "\n",
    "        firstHalf_IndividualTwo = individualTwo[:randomIndex]\n",
    "        secondHalf_IndividualTwo = individualTwo[randomIndex:]\n",
    "\n",
    "        crossovered = firstHalf_IndividualOne + secondHalf_IndividualTwo\n",
    "        crossovered = firstHalf_IndividualTwo + secondHalf_IndividualOne\n",
    "    else:\n",
    "        crossovered = individualOne\n",
    "        crossovered = individualTwo\n",
    "            \n",
    "    return crossovered"
   ]
  },
  {
   "cell_type": "code",
   "execution_count": 73,
   "metadata": {},
   "outputs": [],
   "source": [
    "def applyTournamentForPopulation(population):\n",
    "    newPopulation = []\n",
    "    \n",
    "    while len(newPopulation) < populationSize:\n",
    "        best = tournamentMethod(population) \n",
    "        newPopulation.append(best)\n",
    "    \n",
    "    return newPopulation\n",
    "\n",
    "def mutatePopulation(population):\n",
    "    newPopulation = []\n",
    "    \n",
    "    for individual in population:\n",
    "        mutatedIndividual = mutation(individual)\n",
    "        newPopulation.append(mutatedIndividual)\n",
    "\n",
    "    return newPopulation\n",
    "        \n",
    "def crossoverPopulation(population, propability):    \n",
    "    newPopulation = []\n",
    "    \n",
    "    while len(newPopulation) < populationSize:\n",
    "        crossoveredIndividuals = crossover(population, propability)\n",
    "        newPopulation.append(crossoveredIndividuals)\n",
    "            \n",
    "    return newPopulation"
   ]
  },
  {
   "cell_type": "code",
   "execution_count": null,
   "metadata": {},
   "outputs": [],
   "source": []
  },
  {
   "cell_type": "code",
   "execution_count": 77,
   "metadata": {},
   "outputs": [
    {
     "name": "stdout",
     "output_type": "stream",
     "text": [
      "1.8510315063074843\n"
     ]
    },
    {
     "data": {
      "text/plain": [
       "[<matplotlib.lines.Line2D at 0x116a45f50>]"
      ]
     },
     "execution_count": 77,
     "metadata": {},
     "output_type": "execute_result"
    },
    {
     "data": {
      "image/png": "[encoded data removed]",
      "text/plain": [
       "<Figure size 432x288 with 1 Axes>"
      ]
     },
     "metadata": {
      "needs_background": "light"
     },
     "output_type": "display_data"
    }
   ],
   "source": [
    "initialPopulation = []\n",
    "population = []\n",
    "\n",
    "n = (int)((b - a) / epsilon)\n",
    "bitArraySize = getBitArraySize(n)\n",
    "\n",
    "for i in range(populationSize):\n",
    "    initialPopulation += [np.random.randint(2, size = (bitArraySize,))]\n",
    "    \n",
    "for i in range(populationSize):\n",
    "    population.append(\"\".join(str(x) for x in initialPopulation[i]))\n",
    "\n",
    "q = []\n",
    "e = []\n",
    "\n",
    "best = []\n",
    "bestX = []\n",
    "i = 0\n",
    "while i <= t_max:\n",
    "    population = applyTournamentForPopulation(population)\n",
    "    population = mutatePopulation(population)\n",
    "    population = crossoverPopulation(population, probCrossover)\n",
    "\n",
    "    fitnesses = []\n",
    "    for individual in population:\n",
    "        populationFitness = fitness(individual)\n",
    "        bestX.append(individual)\n",
    "        fitnesses.append(populationFitness)\n",
    "    best.append(max(fitnesses))\n",
    "\n",
    "    if i > 1:\n",
    "        #print('\\nf_max = ', best[i])\n",
    "        if best[i] - best[i - 1] < epsilon:\n",
    "            t_max_i += 1\n",
    "\n",
    "    if t_max_i > t_max_i:\n",
    "        break\n",
    "\n",
    "    q.append(i)\n",
    "    e.append(best[i])\n",
    "\n",
    "    i += 1    \n",
    "\n",
    "print(bitToFloat(bestX[i - 1]))\n",
    "plt.plot(q,e)"
   ]
  },
  {
   "cell_type": "code",
   "execution_count": 75,
   "metadata": {},
   "outputs": [
    {
     "name": "stdout",
     "output_type": "stream",
     "text": [
      "[2.850273764374812, 2.850273764374812, 2.850273764374812, 2.850273764374812, 2.850273764374812, 2.850273764374812, 2.850273764374812, 2.850273764374812, 2.850273764374812, 2.850273764374812]\n",
      "[0.0, 0.1, 0.2, 0.30000000000000004, 0.4, 0.5, 0.6000000000000001, 0.7000000000000001, 0.8, 0.9]\n"
     ]
    },
    {
     "data": {
      "image/png": "[encoded data removed]",
      "text/plain": [
       "<Figure size 432x288 with 1 Axes>"
      ]
     },
     "metadata": {
      "needs_background": "light"
     },
     "output_type": "display_data"
    }
   ],
   "source": [
    "probs = []\n",
    "res = []\n",
    "\n",
    "for p in np.arange(0, 1, 0.1):\n",
    "    #print('\\n-----', p, '-----')\n",
    "    best = []\n",
    "    i = 0\n",
    "    max_i = 0\n",
    "    while i <= t_max:\n",
    "        population = applyTournamentForPopulation(population)\n",
    "        population = mutatePopulation(population)\n",
    "        population = crossoverPopulation(population, p)\n",
    "\n",
    "        fitnesses = []\n",
    "        for individual in population:\n",
    "            populationFitness = fitness(individual)\n",
    "            fitnesses.append(populationFitness)\n",
    "        best.append(max(fitnesses))\n",
    "\n",
    "        if i > 1:\n",
    "            #print('\\nf_max = ', best[i])\n",
    "            if best[i] - best[i - 1] < epsilon:\n",
    "                max_i += 1\n",
    "\n",
    "        if max_i > t_max_i:\n",
    "            break\n",
    "\n",
    "        i += 1 \n",
    "    probs.append(p)\n",
    "    res.append(best[i - 1])\n",
    "    \n",
    "    #print('p = ', p)\n",
    "    #print('f = ', best[i - 1])\n",
    "    \n",
    "plt.plot(probs, res)\n",
    "print(res)\n",
    "print(probs)"
   ]
  },
  {
   "cell_type": "code",
   "execution_count": null,
   "metadata": {},
   "outputs": [],
   "source": []
  }
 ],
 "metadata": {
  "kernelspec": {
   "display_name": "Python 3",
   "language": "python",
   "name": "python3"
  },
  "language_info": {
   "codemirror_mode": {
    "name": "ipython",
    "version": 3
   },
   "file_extension": ".py",
   "mimetype": "text/x-python",
   "name": "python",
   "nbconvert_exporter": "python",
   "pygments_lexer": "ipython3",
   "version": "3.7.4"
  }
 },
 "nbformat": 4,
 "nbformat_minor": 2
}
