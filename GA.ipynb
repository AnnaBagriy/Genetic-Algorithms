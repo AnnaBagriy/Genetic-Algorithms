{
 "cells": [
  {
   "cell_type": "code",
   "execution_count": 592,
   "metadata": {},
   "outputs": [],
   "source": [
    "import numpy as np\n",
    "import random\n",
    "import math\n",
    "import matplotlib.pyplot as plt"
   ]
  },
  {
   "cell_type": "code",
   "execution_count": 593,
   "metadata": {},
   "outputs": [],
   "source": [
    "# Sections\n",
    "a1 = -1\n",
    "b1 = 1\n",
    "\n",
    "a2 = 0\n",
    "b2 = 4\n",
    "\n",
    "# Additional data\n",
    "epsilon = 1e-6\n",
    "populationSize = 100\n",
    "\n",
    "# Iterations \n",
    "t_max_i = 10\n",
    "t_max = 100\n",
    "\n",
    "# Propabilities\n",
    "probCrossover = 0.75\n",
    "probMutation = 0.5"
   ]
  },
  {
   "cell_type": "code",
   "execution_count": 594,
   "metadata": {},
   "outputs": [],
   "source": [
    "n1 = (int)((b1 - a1) / epsilon)\n",
    "n2 = (int)((b2 - a2) / epsilon)\n",
    "\n",
    "bitArraySize1 = getBitArraySize(n1)\n",
    "bitArraySize2 = getBitArraySize(n2)"
   ]
  },
  {
   "cell_type": "code",
   "execution_count": 595,
   "metadata": {},
   "outputs": [],
   "source": [
    "def f(x1, x2):\n",
    "    return math.sqrt(x1**2 + x2**2 + 1) + 0.5 * x1 - 0.5 * x2"
   ]
  },
  {
   "cell_type": "code",
   "execution_count": 596,
   "metadata": {},
   "outputs": [],
   "source": [
    "def getBitArraySize(n):\n",
    "    bitArraySize = 0\n",
    "    \n",
    "    while n > 0:\n",
    "        n >>= 1\n",
    "        bitArraySize += 1\n",
    "        \n",
    "    return bitArraySize"
   ]
  },
  {
   "cell_type": "code",
   "execution_count": 597,
   "metadata": {},
   "outputs": [],
   "source": [
    "def bitToFloat(bitArray, a, b, size):\n",
    "    return a + ((b - a)) / (2**size - 1) * int(bitArray, 2)\n",
    "\n",
    "def fitness(individuals):\n",
    "    #print(f(bitToFloat(individuals[0], a1, b1), bitToFloat(individuals[1], a2, b2)))\n",
    "    return f(bitToFloat(individuals[0], a1, b1, bitArraySize1), bitToFloat(individuals[1], a2, b2, bitArraySize2))\n",
    "\n",
    "def populationFitnessFunc(population, lens):\n",
    "    maximum = 0\n",
    "    \n",
    "    for individual in population:\n",
    "        xi = []\n",
    "        i = 0\n",
    "        \n",
    "        for j in range(0, len(lens)):\n",
    "            #print('start ',i,'lens[j] ', lens[j])\n",
    "            #print(individual.slice(i,lens[j]))\n",
    "            xi.append(individual[i:i+lens[j]])\n",
    "            i += lens[j]\n",
    "            \n",
    "        #print(xi)\n",
    "        if fitness(xi) > maximum:\n",
    "            maximum = fitness(xi)\n",
    "     \n",
    "    #print(maximum)\n",
    "    return maximum"
   ]
  },
  {
   "cell_type": "code",
   "execution_count": 598,
   "metadata": {},
   "outputs": [],
   "source": [
    "def tournamentMethod(population):\n",
    "    result = random.sample(population, 2)\n",
    "\n",
    "    firstFitnessFunction = fitness(result[0])\n",
    "    secondFitnessFunction = fitness(result[1])\n",
    "\n",
    "    if firstFitnessFunction > secondFitnessFunction:\n",
    "        best = result[0]\n",
    "    else:\n",
    "        best = result[1]  \n",
    "\n",
    "    return best\n",
    "\n",
    "def mutation(individual):\n",
    "    randomProbability = np.random.random_sample()\n",
    "\n",
    "    if randomProbability <= probMutation:\n",
    "        charIndexToMutate = np.random.randint(low = 0, high = bitArraySize)\n",
    "        charToMutate = individual[charIndexToMutate] \n",
    "\n",
    "        if charToMutate == '0':\n",
    "            individual = individual[:charIndexToMutate] + \"1\" + individual[charIndexToMutate + 1:]\n",
    "        else:\n",
    "            individual = individual[:charIndexToMutate] + \"0\" + individual[charIndexToMutate + 1:]\n",
    "\n",
    "    return individual\n",
    "\n",
    "def crossover(population):    \n",
    "    individualOne = population[np.random.randint(low = 0, high = populationSize - 1)]\n",
    "    individualTwo = population[np.random.randint(low = 0, high = populationSize - 1)]\n",
    "\n",
    "    probabilityForCrossover = np.random.random_sample()\n",
    "    if probabilityForCrossover <= probCrossover:\n",
    "        randomIndex = np.random.randint(low = 0, high = bitArraySize)\n",
    "\n",
    "        firstHalf_IndividualOne = individualOne[:randomIndex]\n",
    "        secondHalf_IndividualOne = individualOne[randomIndex:]\n",
    "\n",
    "        firstHalf_IndividualTwo = individualTwo[:randomIndex]\n",
    "        secondHalf_IndividualTwo = individualTwo[randomIndex:]\n",
    "\n",
    "        crossovered = firstHalf_IndividualOne + secondHalf_IndividualTwo\n",
    "        crossovered = firstHalf_IndividualTwo + secondHalf_IndividualOne\n",
    "    else:\n",
    "        crossovered = individualOne\n",
    "        crossovered = individualTwo\n",
    "            \n",
    "    return crossovered"
   ]
  },
  {
   "cell_type": "code",
   "execution_count": 599,
   "metadata": {},
   "outputs": [],
   "source": [
    "def applyTournamentForPopulation(population):\n",
    "    newPopulation = []\n",
    "    \n",
    "    while len(newPopulation) < populationSize:\n",
    "        best = tournamentMethod(population) \n",
    "        newPopulation.append(best)\n",
    "    \n",
    "    return newPopulation\n",
    "\n",
    "def mutatePopulation(population):\n",
    "    newPopulation = []\n",
    "    \n",
    "    for individual in population:\n",
    "        mutatedIndividual = mutation(individual)\n",
    "        newPopulation.append(mutatedIndividual)\n",
    "\n",
    "    return newPopulation\n",
    "        \n",
    "def crossoverPopulation(population):    \n",
    "    newPopulation = []\n",
    "    \n",
    "    while len(newPopulation) < populationSize:\n",
    "        crossoveredIndividuals = crossover(population)\n",
    "        newPopulation.append(crossoveredIndividuals)\n",
    "            \n",
    "    return newPopulation"
   ]
  },
  {
   "cell_type": "code",
   "execution_count": 600,
   "metadata": {},
   "outputs": [
    {
     "name": "stdout",
     "output_type": "stream",
     "text": [
      "f_max =  1.5991811398217206\n"
     ]
    },
    {
     "data": {
      "text/plain": [
       "[<matplotlib.lines.Line2D at 0x11b5da0d0>]"
      ]
     },
     "execution_count": 600,
     "metadata": {},
     "output_type": "execute_result"
    },
    {
     "data": {
      "image/png": "[encoded data removed]",
      "text/plain": [
       "<Figure size 432x288 with 1 Axes>"
      ]
     },
     "metadata": {
      "needs_background": "light"
     },
     "output_type": "display_data"
    }
   ],
   "source": [
    "initialPopulation = []\n",
    "population = []\n",
    "\n",
    "#print(n1)\n",
    "#print(bitArraySize1)\n",
    "#print(bitArraySize2)\n",
    "\n",
    "for i in range(populationSize):\n",
    "    initialPopulation += [np.random.randint(2, size = (bitArraySize1 + bitArraySize2,))]\n",
    "    \n",
    "for i in range(populationSize):\n",
    "    population.append(\"\".join(str(x) for x in initialPopulation[i]))\n",
    "\n",
    "iterations = []\n",
    "functions = []\n",
    "\n",
    "best = []\n",
    "i = 0\n",
    "max_i = 0\n",
    "while i <= t_max:\n",
    "    population = applyTournamentForPopulation(population)\n",
    "    population = mutatePopulation(population)\n",
    "    population = crossoverPopulation(population)\n",
    "\n",
    "    best.append(populationFitnessFunc(population, [bitArraySize1, bitArraySize2]))\n",
    "\n",
    "    if i > 1:\n",
    "        #print('\\nf_max = ', best[i])\n",
    "        if best[i] - best[i - 1] < epsilon:\n",
    "            max_i += 1\n",
    "\n",
    "    if max_i > t_max_i:\n",
    "        break\n",
    "\n",
    "    iterations.append(i)\n",
    "    functions.append(best[i])\n",
    "\n",
    "    #print(best[i])\n",
    "    i += 1    \n",
    "\n",
    "print('f_max = ', best[i-1])\n",
    "plt.plot(iterations, functions)"
   ]
  },
  {
   "cell_type": "code",
   "execution_count": null,
   "metadata": {},
   "outputs": [],
   "source": []
  },
  {
   "cell_type": "code",
   "execution_count": null,
   "metadata": {},
   "outputs": [],
   "source": []
  }
 ],
 "metadata": {
  "kernelspec": {
   "display_name": "Python 3",
   "language": "python",
   "name": "python3"
  },
  "language_info": {
   "codemirror_mode": {
    "name": "ipython",
    "version": 3
   },
   "file_extension": ".py",
   "mimetype": "text/x-python",
   "name": "python",
   "nbconvert_exporter": "python",
   "pygments_lexer": "ipython3",
   "version": "3.7.4"
  }
 },
 "nbformat": 4,
 "nbformat_minor": 2
}
